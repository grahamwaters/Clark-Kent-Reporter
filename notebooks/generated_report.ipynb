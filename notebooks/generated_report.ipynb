{
 "cells": [
  {
   "cell_type": "markdown",
   "id": "57ab1adc",
   "metadata": {},
   "source": [
    "# Analysis of Spotify Tracks with Neural Networks\n",
    "**A project by Graham Waters, prepared 2022-11-13**"
   ]
  },
  {
   "cell_type": "markdown",
   "id": "a3e9a5e6",
   "metadata": {},
   "source": [
    "Executive Summary"
   ]
  },
  {
   "cell_type": "markdown",
   "id": "e2f330e3",
   "metadata": {},
   "source": [
    "# Executive Summary"
   ]
  },
  {
   "cell_type": "markdown",
   "id": "02f17fb8",
   "metadata": {},
   "source": [
    "\n",
    "\n",
    "Section Text Not Found\n",
    "\n"
   ]
  },
  {
   "cell_type": "code",
   "execution_count": null,
   "id": "35ff74a4",
   "metadata": {},
   "outputs": [],
   "source": []
  },
  {
   "cell_type": "markdown",
   "id": "9bc1bb18",
   "metadata": {},
   "source": [
    "# Part 1: Using Clustering on Spotify data to predict genres of songs"
   ]
  },
  {
   "cell_type": "markdown",
   "id": "19b92a5c",
   "metadata": {},
   "source": [
    "\n",
    "\n",
    "Section Text Not Found\n",
    "\n"
   ]
  },
  {
   "cell_type": "code",
   "execution_count": null,
   "id": "c430809b",
   "metadata": {},
   "outputs": [],
   "source": []
  },
  {
   "cell_type": "markdown",
   "id": "f7643f6d",
   "metadata": {},
   "source": [
    "# What Data is available in our datasets?"
   ]
  },
  {
   "cell_type": "markdown",
   "id": "90b95192",
   "metadata": {},
   "source": [
    "\n",
    "\n",
    "Section Text Not Found\n",
    "\n"
   ]
  },
  {
   "cell_type": "code",
   "execution_count": null,
   "id": "bf11f67d",
   "metadata": {},
   "outputs": [],
   "source": []
  },
  {
   "cell_type": "markdown",
   "id": "5c0d7157",
   "metadata": {},
   "source": [
    "## Data Dictionary"
   ]
  },
  {
   "cell_type": "markdown",
   "id": "66854210",
   "metadata": {},
   "source": [
    "\n",
    "\n",
    "Section Text Not Found\n",
    "\n"
   ]
  },
  {
   "cell_type": "code",
   "execution_count": null,
   "id": "42286e82",
   "metadata": {},
   "outputs": [],
   "source": []
  },
  {
   "cell_type": "markdown",
   "id": "55c839b1",
   "metadata": {},
   "source": [
    "### File 1. data_by_genres.csv"
   ]
  },
  {
   "cell_type": "markdown",
   "id": "fb48301b",
   "metadata": {},
   "source": [
    "\n",
    "\n",
    "Section Text Not Found\n",
    "\n"
   ]
  },
  {
   "cell_type": "code",
   "execution_count": null,
   "id": "3f49403d",
   "metadata": {},
   "outputs": [],
   "source": []
  },
  {
   "cell_type": "markdown",
   "id": "0ac9f93f",
   "metadata": {},
   "source": [
    "### File 2. spotify_artists.csv"
   ]
  },
  {
   "cell_type": "markdown",
   "id": "2edf9848",
   "metadata": {},
   "source": [
    "\n",
    "\n",
    "Section Text Not Found\n",
    "\n"
   ]
  },
  {
   "cell_type": "code",
   "execution_count": null,
   "id": "fe199575",
   "metadata": {},
   "outputs": [],
   "source": []
  },
  {
   "cell_type": "markdown",
   "id": "b389fded",
   "metadata": {},
   "source": [
    "### File 3. spotify_tracks.csv"
   ]
  },
  {
   "cell_type": "markdown",
   "id": "74d224d4",
   "metadata": {},
   "source": [
    "\n",
    "\n",
    "Section Text Not Found\n",
    "\n"
   ]
  },
  {
   "cell_type": "code",
   "execution_count": null,
   "id": "fe238bd7",
   "metadata": {},
   "outputs": [],
   "source": []
  },
  {
   "cell_type": "markdown",
   "id": "1c9a6a13",
   "metadata": {},
   "source": [
    "### File 4. low_level_audio_features.csv"
   ]
  },
  {
   "cell_type": "markdown",
   "id": "56e2a03d",
   "metadata": {},
   "source": [
    "\n",
    "\n",
    "Section Text Not Found\n",
    "\n"
   ]
  },
  {
   "cell_type": "code",
   "execution_count": null,
   "id": "0106bb8b",
   "metadata": {},
   "outputs": [],
   "source": []
  },
  {
   "cell_type": "markdown",
   "id": "30fb1244",
   "metadata": {},
   "source": [
    "### File 5. track_features.csv"
   ]
  },
  {
   "cell_type": "markdown",
   "id": "f686d37c",
   "metadata": {},
   "source": [
    "\n",
    "\n",
    "Section Text Not Found\n",
    "\n"
   ]
  },
  {
   "cell_type": "code",
   "execution_count": null,
   "id": "130a969f",
   "metadata": {},
   "outputs": [],
   "source": []
  },
  {
   "cell_type": "markdown",
   "id": "b9d634a0",
   "metadata": {},
   "source": [
    "# Next Steps"
   ]
  },
  {
   "cell_type": "markdown",
   "id": "21230e34",
   "metadata": {},
   "source": [
    "\n",
    "\n",
    "Section Text Not Found\n",
    "\n"
   ]
  },
  {
   "cell_type": "code",
   "execution_count": null,
   "id": "1f6931cf",
   "metadata": {},
   "outputs": [],
   "source": []
  },
  {
   "cell_type": "markdown",
   "id": "93a9fc98",
   "metadata": {},
   "source": [
    "## Get rid of columns that don't help predict genre"
   ]
  },
  {
   "cell_type": "markdown",
   "id": "c320e832",
   "metadata": {},
   "source": [
    "\n",
    "\n",
    "Section Text Not Found\n",
    "\n"
   ]
  },
  {
   "cell_type": "code",
   "execution_count": null,
   "id": "52590040",
   "metadata": {},
   "outputs": [],
   "source": []
  },
  {
   "cell_type": "markdown",
   "id": "a13fac21",
   "metadata": {},
   "source": [
    "## Look into the pandas join function"
   ]
  },
  {
   "cell_type": "markdown",
   "id": "57cddb39",
   "metadata": {},
   "source": [
    "\n",
    "\n",
    "Section Text Not Found\n",
    "\n"
   ]
  },
  {
   "cell_type": "code",
   "execution_count": null,
   "id": "71bb353a",
   "metadata": {},
   "outputs": [],
   "source": []
  },
  {
   "cell_type": "markdown",
   "id": "f7c0ff21",
   "metadata": {},
   "source": [
    "## The end goal is to have single dataframe joining five tables on the track id column"
   ]
  },
  {
   "cell_type": "markdown",
   "id": "009a543c",
   "metadata": {},
   "source": [
    "\n",
    "\n",
    "Section Text Not Found\n",
    "\n"
   ]
  },
  {
   "cell_type": "code",
   "execution_count": null,
   "id": "e38ee7c5",
   "metadata": {},
   "outputs": [],
   "source": []
  },
  {
   "cell_type": "markdown",
   "id": "535fdbf0",
   "metadata": {},
   "source": [
    "## EDA - Exploratory Data Analysis"
   ]
  },
  {
   "cell_type": "markdown",
   "id": "3d0cb314",
   "metadata": {},
   "source": [
    "\n",
    "\n",
    "Section Text Not Found\n",
    "\n"
   ]
  },
  {
   "cell_type": "code",
   "execution_count": null,
   "id": "10512664",
   "metadata": {},
   "outputs": [],
   "source": []
  },
  {
   "cell_type": "markdown",
   "id": "21cefca6",
   "metadata": {},
   "source": [
    "### What are the most popular genres?"
   ]
  },
  {
   "cell_type": "markdown",
   "id": "574f2285",
   "metadata": {},
   "source": [
    "\n",
    "\n",
    "Section Text Not Found\n",
    "\n"
   ]
  },
  {
   "cell_type": "code",
   "execution_count": null,
   "id": "27a9c31a",
   "metadata": {},
   "outputs": [],
   "source": []
  },
  {
   "cell_type": "markdown",
   "id": "211e098a",
   "metadata": {},
   "source": [
    "### What are the most popular artists?"
   ]
  },
  {
   "cell_type": "markdown",
   "id": "c2915397",
   "metadata": {},
   "source": [
    "\n",
    "\n",
    "Section Text Not Found\n",
    "\n"
   ]
  },
  {
   "cell_type": "code",
   "execution_count": null,
   "id": "61b6ea78",
   "metadata": {},
   "outputs": [],
   "source": []
  },
  {
   "cell_type": "markdown",
   "id": "b7a8f1e2",
   "metadata": {},
   "source": [
    "### What correlations are there between the features?"
   ]
  },
  {
   "cell_type": "markdown",
   "id": "142b3e08",
   "metadata": {},
   "source": [
    "\n",
    "\n",
    "Section Text Not Found\n",
    "\n"
   ]
  },
  {
   "cell_type": "code",
   "execution_count": null,
   "id": "50cb18da",
   "metadata": {},
   "outputs": [],
   "source": []
  },
  {
   "cell_type": "markdown",
   "id": "998c1c54",
   "metadata": {},
   "source": [
    "### What does the distribution of the features look like?"
   ]
  },
  {
   "cell_type": "markdown",
   "id": "420b35a3",
   "metadata": {},
   "source": [
    "\n",
    "\n",
    "Section Text Not Found\n",
    "\n"
   ]
  },
  {
   "cell_type": "code",
   "execution_count": null,
   "id": "7e54f0d5",
   "metadata": {},
   "outputs": [],
   "source": []
  },
  {
   "cell_type": "markdown",
   "id": "50d0cfac",
   "metadata": {},
   "source": [
    "### How do each of the features relate to the target (genre)?"
   ]
  },
  {
   "cell_type": "markdown",
   "id": "5e72f133",
   "metadata": {},
   "source": [
    "\n",
    "\n",
    "Section Text Not Found\n",
    "\n"
   ]
  },
  {
   "cell_type": "code",
   "execution_count": null,
   "id": "9084c179",
   "metadata": {},
   "outputs": [],
   "source": []
  },
  {
   "cell_type": "markdown",
   "id": "487c9388",
   "metadata": {},
   "source": [
    "## Data Preprocessing"
   ]
  },
  {
   "cell_type": "markdown",
   "id": "4f3a2715",
   "metadata": {},
   "source": [
    "\n",
    "\n",
    "Section Text Not Found\n",
    "\n"
   ]
  },
  {
   "cell_type": "code",
   "execution_count": null,
   "id": "621ec0cc",
   "metadata": {},
   "outputs": [],
   "source": []
  },
  {
   "cell_type": "markdown",
   "id": "d82d3f9e",
   "metadata": {},
   "source": [
    "### Missing data"
   ]
  },
  {
   "cell_type": "markdown",
   "id": "267de133",
   "metadata": {},
   "source": [
    "\n",
    "\n",
    "Section Text Not Found\n",
    "\n"
   ]
  },
  {
   "cell_type": "code",
   "execution_count": null,
   "id": "e70a4d2b",
   "metadata": {},
   "outputs": [],
   "source": []
  },
  {
   "cell_type": "markdown",
   "id": "4827f595",
   "metadata": {},
   "source": [
    "### types of data (categorical, numerical, ordinal)"
   ]
  },
  {
   "cell_type": "markdown",
   "id": "1acd9f58",
   "metadata": {},
   "source": [
    "\n",
    "\n",
    "Section Text Not Found\n",
    "\n"
   ]
  },
  {
   "cell_type": "code",
   "execution_count": null,
   "id": "e3e54ab6",
   "metadata": {},
   "outputs": [],
   "source": []
  },
  {
   "cell_type": "markdown",
   "id": "723bf6f9",
   "metadata": {},
   "source": [
    "### standardize the columns (scale the data)."
   ]
  },
  {
   "cell_type": "markdown",
   "id": "f940cd9d",
   "metadata": {},
   "source": [
    "\n",
    "\n",
    "Section Text Not Found\n",
    "\n"
   ]
  },
  {
   "cell_type": "code",
   "execution_count": null,
   "id": "11e51545",
   "metadata": {},
   "outputs": [],
   "source": []
  },
  {
   "cell_type": "markdown",
   "id": "97f20a72",
   "metadata": {},
   "source": [
    "### Encode the categorical data (one hot encoding) use get dummies (vs one hot encoding)"
   ]
  },
  {
   "cell_type": "markdown",
   "id": "2582c9aa",
   "metadata": {},
   "source": [
    "\n",
    "\n",
    "Section Text Not Found\n",
    "\n"
   ]
  },
  {
   "cell_type": "code",
   "execution_count": null,
   "id": "e57013e7",
   "metadata": {},
   "outputs": [],
   "source": []
  },
  {
   "cell_type": "markdown",
   "id": "00992ff5",
   "metadata": {},
   "source": [
    "## Start building the models"
   ]
  },
  {
   "cell_type": "markdown",
   "id": "4389e507",
   "metadata": {},
   "source": [
    "\n",
    "\n",
    "Section Text Not Found\n",
    "\n"
   ]
  },
  {
   "cell_type": "code",
   "execution_count": null,
   "id": "42e53e53",
   "metadata": {},
   "outputs": [],
   "source": []
  },
  {
   "cell_type": "markdown",
   "id": "520e5019",
   "metadata": {},
   "source": [
    "### Gradient Boosting Model"
   ]
  },
  {
   "cell_type": "markdown",
   "id": "2df91c18",
   "metadata": {},
   "source": [
    "\n",
    "\n",
    "Section Text Not Found\n",
    "\n"
   ]
  },
  {
   "cell_type": "code",
   "execution_count": null,
   "id": "7c0e887a",
   "metadata": {},
   "outputs": [],
   "source": []
  },
  {
   "cell_type": "markdown",
   "id": "968869a6",
   "metadata": {},
   "source": [
    "### Random Forest Model"
   ]
  },
  {
   "cell_type": "markdown",
   "id": "918568c0",
   "metadata": {},
   "source": [
    "\n",
    "\n",
    "Section Text Not Found\n",
    "\n"
   ]
  },
  {
   "cell_type": "code",
   "execution_count": null,
   "id": "21160485",
   "metadata": {},
   "outputs": [],
   "source": []
  },
  {
   "cell_type": "markdown",
   "id": "990f4c21",
   "metadata": {},
   "source": [
    "### Support Vector Machine potentially."
   ]
  },
  {
   "cell_type": "markdown",
   "id": "10d1eab5",
   "metadata": {},
   "source": [
    "\n",
    "\n",
    "Section Text Not Found\n",
    "\n"
   ]
  },
  {
   "cell_type": "code",
   "execution_count": null,
   "id": "e65df374",
   "metadata": {},
   "outputs": [],
   "source": []
  },
  {
   "cell_type": "markdown",
   "id": "d36cd98f",
   "metadata": {},
   "source": [
    "### Use A neural network (deep learning)"
   ]
  },
  {
   "cell_type": "markdown",
   "id": "4d467741",
   "metadata": {},
   "source": [
    "\n",
    "\n",
    "Section Text Not Found\n",
    "\n"
   ]
  },
  {
   "cell_type": "code",
   "execution_count": null,
   "id": "7ccdb0d6",
   "metadata": {},
   "outputs": [],
   "source": []
  },
  {
   "cell_type": "markdown",
   "id": "42ca01f3",
   "metadata": {},
   "source": [
    "## Evaluate the models"
   ]
  },
  {
   "cell_type": "markdown",
   "id": "3d0c6b24",
   "metadata": {},
   "source": [
    "\n",
    "\n",
    "Section Text Not Found\n",
    "\n"
   ]
  },
  {
   "cell_type": "code",
   "execution_count": null,
   "id": "288eda19",
   "metadata": {},
   "outputs": [],
   "source": []
  },
  {
   "cell_type": "markdown",
   "id": "da68bc7c",
   "metadata": {},
   "source": [
    "# Part 2. Genre Generation with DBSSCAN Clustering"
   ]
  },
  {
   "cell_type": "markdown",
   "id": "81e6e458",
   "metadata": {},
   "source": [
    "\n",
    "\n",
    "Section Text Not Found\n",
    "\n"
   ]
  },
  {
   "cell_type": "code",
   "execution_count": null,
   "id": "cd1457ed",
   "metadata": {},
   "outputs": [],
   "source": []
  },
  {
   "cell_type": "markdown",
   "id": "17560a8e",
   "metadata": {},
   "source": [
    "# Components to this section of the project:"
   ]
  },
  {
   "cell_type": "markdown",
   "id": "401527a3",
   "metadata": {},
   "source": [
    "\n",
    "\n",
    "Section Text Not Found\n",
    "\n"
   ]
  },
  {
   "cell_type": "code",
   "execution_count": null,
   "id": "2fd409dc",
   "metadata": {},
   "outputs": [],
   "source": []
  }
 ],
 "metadata": {},
 "nbformat": 4,
 "nbformat_minor": 5
}
