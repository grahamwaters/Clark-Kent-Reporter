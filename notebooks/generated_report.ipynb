{
 "cells": [
  {
   "cell_type": "markdown",
   "id": "56f71001",
   "metadata": {},
   "source": [
    "# Reddit NLP Project\n",
    "**A project by Graham Waters, prepared 2022-11-12**"
   ]
  },
  {
   "cell_type": "markdown",
   "id": "cefe3458",
   "metadata": {},
   "source": [
    "How to Contribute:"
   ]
  },
  {
   "cell_type": "markdown",
   "id": "5be44002",
   "metadata": {},
   "source": [
    "Introduction"
   ]
  },
  {
   "cell_type": "markdown",
   "id": "581cc4bb",
   "metadata": {},
   "source": [
    "\n",
    "Section Text Not Found\n"
   ]
  },
  {
   "cell_type": "code",
   "execution_count": null,
   "id": "48a48f15",
   "metadata": {},
   "outputs": [],
   "source": []
  },
  {
   "cell_type": "markdown",
   "id": "7e0f7161",
   "metadata": {},
   "source": [
    "About The Project"
   ]
  },
  {
   "cell_type": "markdown",
   "id": "4ec8391f",
   "metadata": {},
   "source": [
    "\n",
    "Section Text Not Found\n"
   ]
  },
  {
   "cell_type": "code",
   "execution_count": null,
   "id": "b6b04648",
   "metadata": {},
   "outputs": [],
   "source": []
  },
  {
   "cell_type": "markdown",
   "id": "77fb5543",
   "metadata": {},
   "source": [
    "Basic Comments and Feedback (so far)"
   ]
  },
  {
   "cell_type": "markdown",
   "id": "4772e600",
   "metadata": {},
   "source": [
    "\n",
    "Section Text Not Found\n"
   ]
  },
  {
   "cell_type": "code",
   "execution_count": null,
   "id": "30a6f898",
   "metadata": {},
   "outputs": [],
   "source": []
  },
  {
   "cell_type": "markdown",
   "id": "41e94e91",
   "metadata": {},
   "source": [
    "How to use this repository"
   ]
  },
  {
   "cell_type": "markdown",
   "id": "b946ea3e",
   "metadata": {},
   "source": [
    "\n",
    "Section Text Not Found\n"
   ]
  },
  {
   "cell_type": "code",
   "execution_count": null,
   "id": "92d427e1",
   "metadata": {},
   "outputs": [],
   "source": []
  },
  {
   "cell_type": "markdown",
   "id": "90699edd",
   "metadata": {},
   "source": [
    "How does the basic version work?"
   ]
  },
  {
   "cell_type": "markdown",
   "id": "20cb70c6",
   "metadata": {},
   "source": [
    "\n",
    "Section Text Not Found\n"
   ]
  },
  {
   "cell_type": "code",
   "execution_count": null,
   "id": "8664e347",
   "metadata": {},
   "outputs": [],
   "source": []
  },
  {
   "cell_type": "markdown",
   "id": "31456662",
   "metadata": {},
   "source": [
    "Figure A. Basic version (example of keywords)"
   ]
  },
  {
   "cell_type": "markdown",
   "id": "125624fb",
   "metadata": {},
   "source": [
    "\n",
    "Section Text Not Found\n"
   ]
  },
  {
   "cell_type": "code",
   "execution_count": null,
   "id": "9d82205d",
   "metadata": {},
   "outputs": [],
   "source": []
  },
  {
   "cell_type": "markdown",
   "id": "8ed5568c",
   "metadata": {},
   "source": [
    "Mode 1. Basic Mode - Using a CSV file to generate lorebooks"
   ]
  },
  {
   "cell_type": "markdown",
   "id": "3e99b8e7",
   "metadata": {},
   "source": [
    "\n",
    "Section Text Not Found\n"
   ]
  },
  {
   "cell_type": "code",
   "execution_count": null,
   "id": "45dc3655",
   "metadata": {},
   "outputs": [],
   "source": []
  },
  {
   "cell_type": "markdown",
   "id": "ef54abff",
   "metadata": {},
   "source": [
    "Mode 2. Subtopics -> to keywords -> to lorebook"
   ]
  },
  {
   "cell_type": "markdown",
   "id": "989b57d6",
   "metadata": {},
   "source": [
    "\n",
    "Section Text Not Found\n"
   ]
  },
  {
   "cell_type": "code",
   "execution_count": null,
   "id": "7fe94dc9",
   "metadata": {},
   "outputs": [],
   "source": []
  },
  {
   "cell_type": "markdown",
   "id": "0adbe91f",
   "metadata": {},
   "source": [
    "How to Contribute:"
   ]
  },
  {
   "cell_type": "markdown",
   "id": "eb929edc",
   "metadata": {},
   "source": [
    "\n",
    "Section Text Not Found\n"
   ]
  },
  {
   "cell_type": "code",
   "execution_count": null,
   "id": "9e713831",
   "metadata": {},
   "outputs": [],
   "source": []
  },
  {
   "cell_type": "markdown",
   "id": "50c92461",
   "metadata": {},
   "source": [
    "Included Files -"
   ]
  },
  {
   "cell_type": "markdown",
   "id": "6fa5ff99",
   "metadata": {},
   "source": [
    "\n",
    "Section Text Not Found\n"
   ]
  },
  {
   "cell_type": "code",
   "execution_count": null,
   "id": "9f3488c6",
   "metadata": {},
   "outputs": [],
   "source": []
  },
  {
   "cell_type": "markdown",
   "id": "7f93cd31",
   "metadata": {},
   "source": [
    "Areas Currently in Development"
   ]
  },
  {
   "cell_type": "markdown",
   "id": "2c6073df",
   "metadata": {},
   "source": [
    "\n",
    "Section Text Not Found\n"
   ]
  },
  {
   "cell_type": "code",
   "execution_count": null,
   "id": "7c2e657f",
   "metadata": {},
   "outputs": [],
   "source": []
  },
  {
   "cell_type": "markdown",
   "id": "5e65c9bf",
   "metadata": {},
   "source": [
    "Future Development Goals"
   ]
  },
  {
   "cell_type": "markdown",
   "id": "ae2658b4",
   "metadata": {},
   "source": [
    "\n",
    "Section Text Not Found\n"
   ]
  },
  {
   "cell_type": "code",
   "execution_count": null,
   "id": "cc50a7d3",
   "metadata": {},
   "outputs": [],
   "source": []
  },
  {
   "cell_type": "markdown",
   "id": "c3178fe9",
   "metadata": {},
   "source": [
    "Notes on the Git Ignore"
   ]
  },
  {
   "cell_type": "markdown",
   "id": "ca5bfcc4",
   "metadata": {},
   "source": [
    "\n",
    "Section Text Not Found\n"
   ]
  },
  {
   "cell_type": "code",
   "execution_count": null,
   "id": "ea176163",
   "metadata": {},
   "outputs": [],
   "source": []
  },
  {
   "cell_type": "markdown",
   "id": "a7a7e49b",
   "metadata": {},
   "source": [
    "Authors"
   ]
  },
  {
   "cell_type": "markdown",
   "id": "db354bf8",
   "metadata": {},
   "source": [
    "\n",
    "Section Text Not Found\n"
   ]
  },
  {
   "cell_type": "code",
   "execution_count": null,
   "id": "b1bd406c",
   "metadata": {},
   "outputs": [],
   "source": []
  },
  {
   "cell_type": "markdown",
   "id": "54c67d8d",
   "metadata": {},
   "source": [
    "License"
   ]
  },
  {
   "cell_type": "markdown",
   "id": "daa248f9",
   "metadata": {},
   "source": [
    "\n",
    "Section Text Not Found\n"
   ]
  },
  {
   "cell_type": "code",
   "execution_count": null,
   "id": "c190ef15",
   "metadata": {},
   "outputs": [],
   "source": []
  }
 ],
 "metadata": {
  "kernelspec": {
   "display_name": "Python 3.9.6 ('base')",
   "language": "python",
   "name": "python3"
  },
  "language_info": {
   "name": "python",
   "version": "3.9.6"
  },
  "vscode": {
   "interpreter": {
    "hash": "6e8cf12211551e1ecfb7b84827bd23b348fb076393a508e20e995a8149682546"
   }
  }
 },
 "nbformat": 4,
 "nbformat_minor": 5
}
