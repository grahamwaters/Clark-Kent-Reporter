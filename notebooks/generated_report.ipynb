{
 "cells": [
  {
   "cell_type": "markdown",
   "id": "57f3c3b3",
   "metadata": {},
   "source": [
    "# # Project Name\n",
    "**A project by Graham Waters, prepared 2022-11-12**"
   ]
  },
  {
   "cell_type": "markdown",
   "id": "324128e3",
   "metadata": {},
   "source": [
    "How to Contribute:"
   ]
  },
  {
   "cell_type": "markdown",
   "id": "bccc7cc0",
   "metadata": {},
   "source": [
    "How to Contribute:"
   ]
  },
  {
   "cell_type": "markdown",
   "id": "92f6f406",
   "metadata": {},
   "source": [
    "\n",
    "Section Text Not Found\n"
   ]
  },
  {
   "cell_type": "code",
   "execution_count": null,
   "id": "f7f82d90",
   "metadata": {},
   "outputs": [],
   "source": []
  },
  {
   "cell_type": "markdown",
   "id": "5718f6f6",
   "metadata": {},
   "source": [
    "Areas Currently in Development"
   ]
  },
  {
   "cell_type": "markdown",
   "id": "a050521d",
   "metadata": {},
   "source": [
    "\n",
    "Section Text Not Found\n"
   ]
  },
  {
   "cell_type": "code",
   "execution_count": null,
   "id": "f32b21de",
   "metadata": {},
   "outputs": [],
   "source": []
  },
  {
   "cell_type": "markdown",
   "id": "20b6670b",
   "metadata": {},
   "source": [
    "Notes on the Git Ignore"
   ]
  },
  {
   "cell_type": "markdown",
   "id": "cd852d02",
   "metadata": {},
   "source": [
    "\n",
    "Section Text Not Found\n"
   ]
  },
  {
   "cell_type": "code",
   "execution_count": null,
   "id": "afe3384e",
   "metadata": {},
   "outputs": [],
   "source": []
  },
  {
   "cell_type": "markdown",
   "id": "ba509854",
   "metadata": {},
   "source": [
    "Introduction"
   ]
  },
  {
   "cell_type": "markdown",
   "id": "31201746",
   "metadata": {},
   "source": [
    "\n",
    "Section Text Not Found\n"
   ]
  },
  {
   "cell_type": "code",
   "execution_count": null,
   "id": "74ab2768",
   "metadata": {},
   "outputs": [],
   "source": []
  },
  {
   "cell_type": "markdown",
   "id": "3545ab42",
   "metadata": {},
   "source": [
    "About The Project"
   ]
  },
  {
   "cell_type": "markdown",
   "id": "61440791",
   "metadata": {},
   "source": [
    "\n",
    "Section Text Not Found\n"
   ]
  },
  {
   "cell_type": "code",
   "execution_count": null,
   "id": "27926e09",
   "metadata": {},
   "outputs": [],
   "source": []
  },
  {
   "cell_type": "markdown",
   "id": "f1b71975",
   "metadata": {},
   "source": [
    "How to use this repository"
   ]
  },
  {
   "cell_type": "markdown",
   "id": "2f15bc51",
   "metadata": {},
   "source": [
    "\n",
    "Section Text Not Found\n"
   ]
  },
  {
   "cell_type": "code",
   "execution_count": null,
   "id": "0a6bf653",
   "metadata": {},
   "outputs": [],
   "source": []
  },
  {
   "cell_type": "markdown",
   "id": "64838d5c",
   "metadata": {},
   "source": [
    "How does the basic version work?"
   ]
  },
  {
   "cell_type": "markdown",
   "id": "7be39f67",
   "metadata": {},
   "source": [
    "\n",
    "Section Text Not Found\n"
   ]
  },
  {
   "cell_type": "code",
   "execution_count": null,
   "id": "815fa9b3",
   "metadata": {},
   "outputs": [],
   "source": []
  },
  {
   "cell_type": "markdown",
   "id": "12ebb342",
   "metadata": {},
   "source": [
    "Included Files -"
   ]
  },
  {
   "cell_type": "markdown",
   "id": "61e423f0",
   "metadata": {},
   "source": [
    "\n",
    "Section Text Not Found\n"
   ]
  },
  {
   "cell_type": "code",
   "execution_count": null,
   "id": "73ff357a",
   "metadata": {},
   "outputs": [],
   "source": []
  },
  {
   "cell_type": "markdown",
   "id": "bcab925e",
   "metadata": {},
   "source": [
    "Future Development Goals"
   ]
  },
  {
   "cell_type": "markdown",
   "id": "e56e357a",
   "metadata": {},
   "source": [
    "\n",
    "Section Text Not Found\n"
   ]
  },
  {
   "cell_type": "code",
   "execution_count": null,
   "id": "3e709245",
   "metadata": {},
   "outputs": [],
   "source": []
  },
  {
   "cell_type": "markdown",
   "id": "628ff975",
   "metadata": {},
   "source": [
    "Authors"
   ]
  },
  {
   "cell_type": "markdown",
   "id": "833a547e",
   "metadata": {},
   "source": [
    "\n",
    "Section Text Not Found\n"
   ]
  },
  {
   "cell_type": "code",
   "execution_count": null,
   "id": "2ec76b71",
   "metadata": {},
   "outputs": [],
   "source": []
  },
  {
   "cell_type": "markdown",
   "id": "1c0c726e",
   "metadata": {},
   "source": [
    "License"
   ]
  },
  {
   "cell_type": "markdown",
   "id": "8f984fca",
   "metadata": {},
   "source": [
    "\n",
    "Section Text Not Found\n"
   ]
  },
  {
   "cell_type": "code",
   "execution_count": null,
   "id": "e587451d",
   "metadata": {},
   "outputs": [],
   "source": []
  },
  {
   "cell_type": "markdown",
   "id": "b9ea3d72",
   "metadata": {},
   "source": [
    "Basic Comments and Feedback (so far)"
   ]
  },
  {
   "cell_type": "markdown",
   "id": "ed9afedf",
   "metadata": {},
   "source": [
    "\n",
    "Section Text Not Found\n"
   ]
  },
  {
   "cell_type": "code",
   "execution_count": null,
   "id": "cad0e4b4",
   "metadata": {},
   "outputs": [],
   "source": []
  },
  {
   "cell_type": "markdown",
   "id": "28c5940a",
   "metadata": {},
   "source": [
    "Figure A. Basic version (example of keywords)"
   ]
  },
  {
   "cell_type": "markdown",
   "id": "b53836f1",
   "metadata": {},
   "source": [
    "\n",
    "Section Text Not Found\n"
   ]
  },
  {
   "cell_type": "code",
   "execution_count": null,
   "id": "c2404cb3",
   "metadata": {},
   "outputs": [],
   "source": []
  },
  {
   "cell_type": "markdown",
   "id": "24584de6",
   "metadata": {},
   "source": [
    "Mode 1. Basic Mode - Using a CSV file to generate lorebooks"
   ]
  },
  {
   "cell_type": "markdown",
   "id": "4003b369",
   "metadata": {},
   "source": [
    "\n",
    "Section Text Not Found\n"
   ]
  },
  {
   "cell_type": "code",
   "execution_count": null,
   "id": "732e65ac",
   "metadata": {},
   "outputs": [],
   "source": []
  },
  {
   "cell_type": "markdown",
   "id": "2e5c8a5f",
   "metadata": {},
   "source": [
    "Mode 2. Subtopics -> to keywords -> to lorebook"
   ]
  },
  {
   "cell_type": "markdown",
   "id": "52e15702",
   "metadata": {},
   "source": [
    "\n",
    "Section Text Not Found\n"
   ]
  },
  {
   "cell_type": "code",
   "execution_count": null,
   "id": "9c52003b",
   "metadata": {},
   "outputs": [],
   "source": []
  }
 ],
 "metadata": {},
 "nbformat": 4,
 "nbformat_minor": 5
}
