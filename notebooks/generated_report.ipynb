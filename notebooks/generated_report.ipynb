{
 "cells": [
  {
   "cell_type": "markdown",
   "id": "945cdf02",
   "metadata": {},
   "source": [
    "# # Reddit NLP Project\n",
    "**A project by Graham Waters, prepared 2022-11-12**"
   ]
  },
  {
   "cell_type": "markdown",
   "id": "0ba411e6",
   "metadata": {},
   "source": [
    "How to Contribute:"
   ]
  },
  {
   "cell_type": "markdown",
   "id": "78972823",
   "metadata": {},
   "source": [
    "Introduction"
   ]
  },
  {
   "cell_type": "markdown",
   "id": "904745d9",
   "metadata": {},
   "source": [
    "\n",
    "Section Text Not Found\n"
   ]
  },
  {
   "cell_type": "code",
   "execution_count": null,
   "id": "645e2746",
   "metadata": {},
   "outputs": [],
   "source": []
  },
  {
   "cell_type": "markdown",
   "id": "1d4f6c8b",
   "metadata": {},
   "source": [
    "About The Project"
   ]
  },
  {
   "cell_type": "markdown",
   "id": "a72494e4",
   "metadata": {},
   "source": [
    "\n",
    "Section Text Not Found\n"
   ]
  },
  {
   "cell_type": "code",
   "execution_count": null,
   "id": "90681765",
   "metadata": {},
   "outputs": [],
   "source": []
  },
  {
   "cell_type": "markdown",
   "id": "eae52846",
   "metadata": {},
   "source": [
    "Basic Comments and Feedback (so far)"
   ]
  },
  {
   "cell_type": "markdown",
   "id": "176325fa",
   "metadata": {},
   "source": [
    "\n",
    "Section Text Not Found\n"
   ]
  },
  {
   "cell_type": "code",
   "execution_count": null,
   "id": "3f9699d3",
   "metadata": {},
   "outputs": [],
   "source": []
  },
  {
   "cell_type": "markdown",
   "id": "26f59426",
   "metadata": {},
   "source": [
    "How to use this repository"
   ]
  },
  {
   "cell_type": "markdown",
   "id": "14352d7c",
   "metadata": {},
   "source": [
    "\n",
    "Section Text Not Found\n"
   ]
  },
  {
   "cell_type": "code",
   "execution_count": null,
   "id": "6ccee77c",
   "metadata": {},
   "outputs": [],
   "source": []
  },
  {
   "cell_type": "markdown",
   "id": "52996072",
   "metadata": {},
   "source": [
    "How does the basic version work?"
   ]
  },
  {
   "cell_type": "markdown",
   "id": "1bacc009",
   "metadata": {},
   "source": [
    "\n",
    "Section Text Not Found\n"
   ]
  },
  {
   "cell_type": "code",
   "execution_count": null,
   "id": "162668f5",
   "metadata": {},
   "outputs": [],
   "source": []
  },
  {
   "cell_type": "markdown",
   "id": "0fa3db9c",
   "metadata": {},
   "source": [
    "Figure A. Basic version (example of keywords)"
   ]
  },
  {
   "cell_type": "markdown",
   "id": "8ad8dbc8",
   "metadata": {},
   "source": [
    "\n",
    "Section Text Not Found\n"
   ]
  },
  {
   "cell_type": "code",
   "execution_count": null,
   "id": "a034c41b",
   "metadata": {},
   "outputs": [],
   "source": []
  },
  {
   "cell_type": "markdown",
   "id": "f6a6b49f",
   "metadata": {},
   "source": [
    "Mode 1. Basic Mode - Using a CSV file to generate lorebooks"
   ]
  },
  {
   "cell_type": "markdown",
   "id": "51f7751b",
   "metadata": {},
   "source": [
    "\n",
    "Section Text Not Found\n"
   ]
  },
  {
   "cell_type": "code",
   "execution_count": null,
   "id": "4d935b40",
   "metadata": {},
   "outputs": [],
   "source": []
  },
  {
   "cell_type": "markdown",
   "id": "4a67746c",
   "metadata": {},
   "source": [
    "Mode 2. Subtopics -> to keywords -> to lorebook"
   ]
  },
  {
   "cell_type": "markdown",
   "id": "beb64f29",
   "metadata": {},
   "source": [
    "\n",
    "Section Text Not Found\n"
   ]
  },
  {
   "cell_type": "code",
   "execution_count": null,
   "id": "d287782f",
   "metadata": {},
   "outputs": [],
   "source": []
  },
  {
   "cell_type": "markdown",
   "id": "f8a8df75",
   "metadata": {},
   "source": [
    "How to Contribute:"
   ]
  },
  {
   "cell_type": "markdown",
   "id": "426ecb30",
   "metadata": {},
   "source": [
    "\n",
    "Section Text Not Found\n"
   ]
  },
  {
   "cell_type": "code",
   "execution_count": null,
   "id": "41d85ccb",
   "metadata": {},
   "outputs": [],
   "source": []
  },
  {
   "cell_type": "markdown",
   "id": "17aa85d3",
   "metadata": {},
   "source": [
    "Included Files -"
   ]
  },
  {
   "cell_type": "markdown",
   "id": "9cb2f30c",
   "metadata": {},
   "source": [
    "\n",
    "Section Text Not Found\n"
   ]
  },
  {
   "cell_type": "code",
   "execution_count": null,
   "id": "8b1a9b73",
   "metadata": {},
   "outputs": [],
   "source": []
  },
  {
   "cell_type": "markdown",
   "id": "7ec265ae",
   "metadata": {},
   "source": [
    "Areas Currently in Development"
   ]
  },
  {
   "cell_type": "markdown",
   "id": "e7bc7be4",
   "metadata": {},
   "source": [
    "\n",
    "Section Text Not Found\n"
   ]
  },
  {
   "cell_type": "code",
   "execution_count": null,
   "id": "b348390c",
   "metadata": {},
   "outputs": [],
   "source": []
  },
  {
   "cell_type": "markdown",
   "id": "53e51c5a",
   "metadata": {},
   "source": [
    "Future Development Goals"
   ]
  },
  {
   "cell_type": "markdown",
   "id": "a4124f49",
   "metadata": {},
   "source": [
    "\n",
    "Section Text Not Found\n"
   ]
  },
  {
   "cell_type": "code",
   "execution_count": null,
   "id": "a5217765",
   "metadata": {},
   "outputs": [],
   "source": []
  },
  {
   "cell_type": "markdown",
   "id": "1c80f769",
   "metadata": {},
   "source": [
    "Notes on the Git Ignore"
   ]
  },
  {
   "cell_type": "markdown",
   "id": "e0a30aea",
   "metadata": {},
   "source": [
    "\n",
    "Section Text Not Found\n"
   ]
  },
  {
   "cell_type": "code",
   "execution_count": null,
   "id": "9f21e11b",
   "metadata": {},
   "outputs": [],
   "source": []
  },
  {
   "cell_type": "markdown",
   "id": "9e1e6ef6",
   "metadata": {},
   "source": [
    "Authors"
   ]
  },
  {
   "cell_type": "markdown",
   "id": "9691447d",
   "metadata": {},
   "source": [
    "\n",
    "Section Text Not Found\n"
   ]
  },
  {
   "cell_type": "code",
   "execution_count": null,
   "id": "4f3316c8",
   "metadata": {},
   "outputs": [],
   "source": []
  },
  {
   "cell_type": "markdown",
   "id": "4361308f",
   "metadata": {},
   "source": [
    "License"
   ]
  },
  {
   "cell_type": "markdown",
   "id": "4cc2c263",
   "metadata": {},
   "source": [
    "\n",
    "Section Text Not Found\n"
   ]
  },
  {
   "cell_type": "code",
   "execution_count": null,
   "id": "0c15ff82",
   "metadata": {},
   "outputs": [],
   "source": []
  }
 ],
 "metadata": {},
 "nbformat": 4,
 "nbformat_minor": 5
}
