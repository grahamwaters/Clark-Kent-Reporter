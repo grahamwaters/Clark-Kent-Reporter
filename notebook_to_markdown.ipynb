{
 "cells": [
  {
   "cell_type": "code",
   "execution_count": 2,
   "metadata": {},
   "outputs": [],
   "source": [
    "import nbformat\n",
    "\n",
    "\n",
    "# Read the Jupyter notebook\n",
    "with open('01_premodeling.ipynb') as f:\n",
    "    nb = nbformat.read(f, as_version=4)\n",
    "\n",
    "# Create a new markdown file\n",
    "with open('report.md', 'w') as f:\n",
    "    # Iterate over the cells in the Jupyter notebook\n",
    "    for cell in nb['cells']:\n",
    "        # If the cell is a markdown cell, write its contents to the markdown file,\n",
    "        # inserting a newline between paragraphs\n",
    "        if cell['cell_type'] == 'markdown':\n",
    "            text = cell['source']\n",
    "            paragraphs = text.split('\\n\\n')\n",
    "            for paragraph in paragraphs:\n",
    "                f.write(paragraph + '\\n\\n')\n",
    "        # If the cell is a code cell, write its contents to the markdown file\n",
    "        # as a code block denoted by triple backticks (```)\n",
    "        elif cell['cell_type'] == 'code' and cell['execution_count'] is not None and cell['outputs']: \n",
    "            f.write('```python\\n') # Note that we specify the language as python\n",
    "            f.write(cell['source']) # + '\n",
    "            f.write('```\\n\\n') # Note the extra newline at the end of the code block\n"
   ]
  }
 ],
 "metadata": {
  "kernelspec": {
   "display_name": "Python 3.9.13 ('base')",
   "language": "python",
   "name": "python3"
  },
  "language_info": {
   "codemirror_mode": {
    "name": "ipython",
    "version": 3
   },
   "file_extension": ".py",
   "mimetype": "text/x-python",
   "name": "python",
   "nbconvert_exporter": "python",
   "pygments_lexer": "ipython3",
   "version": "3.9.13"
  },
  "orig_nbformat": 4,
  "vscode": {
   "interpreter": {
    "hash": "40d3a090f54c6569ab1632332b64b2c03c39dcf918b08424e98f38b5ae0af88f"
   }
  }
 },
 "nbformat": 4,
 "nbformat_minor": 2
}
