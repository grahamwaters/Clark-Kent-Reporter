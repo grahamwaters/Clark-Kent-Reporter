{
 "cells": [
  {
   "cell_type": "markdown",
   "metadata": {},
   "source": [
    "Here is an example of how I might have implemented the markdown_to_notebook function to convert a markdown file into a Jupyter Notebook:"
   ]
  },
  {
   "cell_type": "code",
   "execution_count": 21,
   "metadata": {},
   "outputs": [],
   "source": [
    "import os\n",
    "import re\n",
    "import alive_progress\n",
    "import nbformat as nb\n",
    "from nbconvert import MarkdownExporter\n",
    "from nbconvert.preprocessors import Preprocessor, ExecutePreprocessor\n",
    "from tqdm import tqdm\n"
   ]
  },
  {
   "cell_type": "markdown",
   "metadata": {},
   "source": [
    "The os module provides functions for interacting with the operating system, such as functions for working with files and directories. The re module provides functions for working with regular expressions, which are used to search for code blocks in markdown cells. The nbformat module provides functions for working with Jupyter Notebooks. The MarkdownExporter class is part of the nbconvert package, and is used to convert Jupyter Notebooks to markdown. The ExecutePreprocessor class is also part of the nbconvert package, and is used to execute the code cells in a Jupyter Notebook."
   ]
  },
  {
   "cell_type": "code",
   "execution_count": 22,
   "metadata": {},
   "outputs": [],
   "source": [
    "# Define a custom preprocessor that converts markdown cells with code blocks\n",
    "# into markdown cells with the code blocks rendered as code outputs\n",
    "class CodeBlockPreprocessor(Preprocessor):\n",
    "    def preprocess(self, nb, resources):\n",
    "        # Iterate over all cells in the notebook\n",
    "        for cell in tqdm(nb.cells):\n",
    "            # Check if the cell is a markdown cell and if it contains code blocks\n",
    "            if cell[\"cell_type\"] == \"markdown\" and re.search(r\"```(.*?)```\", cell[\"source\"], flags=re.DOTALL):\n",
    "                # Create a new code cell with the code blocks from the markdown cell\n",
    "                new_cell = nb.v4.new_code_cell(\"\\n\".join(re.findall(r\"```(.*?)```\", cell[\"source\"], flags=re.DOTALL)))\n",
    "                # Replace the markdown cell with the code cell\n",
    "                nb.cells[nb.cells.index(cell)] = new_cell\n",
    "        return nb, resources\n",
    "\n"
   ]
  },
  {
   "cell_type": "code",
   "execution_count": 23,
   "metadata": {},
   "outputs": [],
   "source": [
    "\n",
    "# Define a function that converts a markdown file into a Jupyter Notebook\n",
    "def markdown_to_notebook(markdown_file_path, notebook_file_path):\n",
    "    # Read the markdown file]\n",
    "    with open(markdown_file_path) as f:\n",
    "        markdown_text = f.read()\n",
    "\n",
    "    # Create a Jupyter Notebook with the markdown text\n",
    "    notebook = nb.v4.new_notebook(markdown=markdown_text)\n",
    "\n",
    "    # Create an exporter that converts Jupyter Notebooks to markdown\n",
    "    exporter = MarkdownExporter()\n",
    "\n",
    "    # Preprocess the notebook to convert markdown cells with code blocks\n",
    "    # into markdown cells with the code blocks rendered as code outputs\n",
    "    with alive_progress.bar(nb.cells) as bar:\n",
    "        for cell in nb.cells:\n",
    "            notebook, _ = CodeBlockPreprocessor().preprocess(notebook, {})\n",
    "            bar()\n",
    "\n",
    "    # Export the preprocessed notebook to markdown\n",
    "    with alive_progress.bar(notebook) as bar:\n",
    "        markdown_text, _ = exporter.from_notebook_node(notebook)\n",
    "        bar()\n",
    "\n",
    "    # Create a Jupyter Notebook with the preprocessed markdown text\n",
    "    notebook = nb.v4.new_notebook(markdown=markdown_text)\n",
    "\n",
    "   \n"
   ]
  },
  {
   "cell_type": "markdown",
   "metadata": {},
   "source": [
    "This function is similar to the function provided in the previous answer, but it uses regular expressions to find and replace code blocks in markdown cells with code cells in the Jupyter Notebook. It also uses the ExecutePreprocessor to execute the code cells in the notebook before saving it to the specified file path.\n",
    "\n",
    "Here is an example of how I might have implemented the convert_directory function to convert all markdown files in a directory into Jupyter Notebooks:"
   ]
  },
  {
   "cell_type": "code",
   "execution_count": 24,
   "metadata": {},
   "outputs": [],
   "source": [
    "import os\n",
    "import nbformat as nb\n",
    "from alive_progress import alive_bar\n",
    "\n",
    "# Define a function that converts all markdown files in a directory into Jupyter Notebooks\n",
    "def convert_directory(markdown_dir_path, notebook_dir_path):\n",
    "    # Create the notebook directory if it doesn't exist\n",
    "    if not os.path.exists(notebook_dir_path):\n",
    "        os.makedirs(notebook_dir_path)\n",
    "\n",
    "    # Iterate over all files in the markdown directory\n",
    "    markdown_file_paths = [\n",
    "        os.path.join(markdown_dir_path, f) for f in os.listdir(markdown_dir_path) if f.endswith(\".md\")\n",
    "    ]\n",
    "    with alive_bar(len(markdown_file_paths)) as bar:\n",
    "        for markdown_file_path in markdown_file_paths:\n",
    "            # Convert the markdown file into a Jupyter Notebook\n",
    "            notebook_file_name = os.path.splitext(os.path.basename(markdown_file_path))[0] + \".ipynb\"\n",
    "            notebook_file_path = os.path.join(notebook_dir_path, notebook_file_name)\n",
    "            markdown_to_notebook(markdown_file_path, notebook_file_path)\n",
    "            bar()"
   ]
  },
  {
   "cell_type": "code",
   "execution_count": 31,
   "metadata": {},
   "outputs": [],
   "source": [
    "import os\n",
    "import nbformat as nb\n",
    "\n",
    "# Define a function that converts a markdown file into a Jupyter Notebook\n",
    "def markdown_to_notebook(markdown_file_path, notebook_file_path):\n",
    "    # Read the markdown file\n",
    "    with open(markdown_file_path) as f:\n",
    "        markdown_text = f.read()\n",
    "\n",
    "    # Create a Jupyter Notebook with the markdown text\n",
    "    notebook = nb.v4.new_notebook(markdown=markdown_text)\n",
    "\n",
    "    # Save the notebook to the specified file path\n",
    "    with open(notebook_file_path, \"w\") as f:\n",
    "        nb.write(notebook, f)\n",
    "\n",
    "# Define a function that converts a single markdown file into a Jupyter Notebook\n",
    "def convert_file(markdown_file_path, notebook_file_path):\n",
    "    # Convert the markdown file into a Jupyter Notebook\n",
    "    markdown_to_notebook(markdown_file_path, notebook_file_path)\n"
   ]
  },
  {
   "cell_type": "code",
   "execution_count": 32,
   "metadata": {},
   "outputs": [
    {
     "ename": "NotebookValidationError",
     "evalue": "data must not contain {'markdown'} properties\n\nFailed validating <unset> in notebook:\n\nOn instance:\n<unset>",
     "output_type": "error",
     "traceback": [
      "\u001b[0;31m---------------------------------------------------------------------------\u001b[0m",
      "\u001b[0;31mNotebookValidationError\u001b[0m                   Traceback (most recent call last)",
      "\u001b[0;32m/var/folders/34/d1tlq3k91hb0lj6x90xpzb4r0000gn/T/ipykernel_50615/542431524.py\u001b[0m in \u001b[0;36m<module>\u001b[0;34m\u001b[0m\n\u001b[0;32m----> 1\u001b[0;31m \u001b[0mconvert_file\u001b[0m\u001b[0;34m(\u001b[0m\u001b[0;34m\"MOCKUP_README.md\"\u001b[0m\u001b[0;34m,\u001b[0m \u001b[0;34m\"my_notebook.ipynb\"\u001b[0m\u001b[0;34m)\u001b[0m\u001b[0;34m\u001b[0m\u001b[0;34m\u001b[0m\u001b[0m\n\u001b[0m",
      "\u001b[0;32m/var/folders/34/d1tlq3k91hb0lj6x90xpzb4r0000gn/T/ipykernel_50615/3386118600.py\u001b[0m in \u001b[0;36mconvert_file\u001b[0;34m(markdown_file_path, notebook_file_path)\u001b[0m\n\u001b[1;32m     18\u001b[0m \u001b[0;32mdef\u001b[0m \u001b[0mconvert_file\u001b[0m\u001b[0;34m(\u001b[0m\u001b[0mmarkdown_file_path\u001b[0m\u001b[0;34m,\u001b[0m \u001b[0mnotebook_file_path\u001b[0m\u001b[0;34m)\u001b[0m\u001b[0;34m:\u001b[0m\u001b[0;34m\u001b[0m\u001b[0;34m\u001b[0m\u001b[0m\n\u001b[1;32m     19\u001b[0m     \u001b[0;31m# Convert the markdown file into a Jupyter Notebook\u001b[0m\u001b[0;34m\u001b[0m\u001b[0;34m\u001b[0m\u001b[0m\n\u001b[0;32m---> 20\u001b[0;31m     \u001b[0mmarkdown_to_notebook\u001b[0m\u001b[0;34m(\u001b[0m\u001b[0mmarkdown_file_path\u001b[0m\u001b[0;34m,\u001b[0m \u001b[0mnotebook_file_path\u001b[0m\u001b[0;34m)\u001b[0m\u001b[0;34m\u001b[0m\u001b[0;34m\u001b[0m\u001b[0m\n\u001b[0m",
      "\u001b[0;32m/var/folders/34/d1tlq3k91hb0lj6x90xpzb4r0000gn/T/ipykernel_50615/3386118600.py\u001b[0m in \u001b[0;36mmarkdown_to_notebook\u001b[0;34m(markdown_file_path, notebook_file_path)\u001b[0m\n\u001b[1;32m      9\u001b[0m \u001b[0;34m\u001b[0m\u001b[0m\n\u001b[1;32m     10\u001b[0m     \u001b[0;31m# Create a Jupyter Notebook with the markdown text\u001b[0m\u001b[0;34m\u001b[0m\u001b[0;34m\u001b[0m\u001b[0m\n\u001b[0;32m---> 11\u001b[0;31m     \u001b[0mnotebook\u001b[0m \u001b[0;34m=\u001b[0m \u001b[0mnb\u001b[0m\u001b[0;34m.\u001b[0m\u001b[0mv4\u001b[0m\u001b[0;34m.\u001b[0m\u001b[0mnew_notebook\u001b[0m\u001b[0;34m(\u001b[0m\u001b[0mmarkdown\u001b[0m\u001b[0;34m=\u001b[0m\u001b[0mmarkdown_text\u001b[0m\u001b[0;34m)\u001b[0m\u001b[0;34m\u001b[0m\u001b[0;34m\u001b[0m\u001b[0m\n\u001b[0m\u001b[1;32m     12\u001b[0m \u001b[0;34m\u001b[0m\u001b[0m\n\u001b[1;32m     13\u001b[0m     \u001b[0;31m# Save the notebook to the specified file path\u001b[0m\u001b[0;34m\u001b[0m\u001b[0;34m\u001b[0m\u001b[0m\n",
      "\u001b[0;32m/opt/anaconda3/lib/python3.9/site-packages/nbformat/v4/nbbase.py\u001b[0m in \u001b[0;36mnew_notebook\u001b[0;34m(**kwargs)\u001b[0m\n\u001b[1;32m    168\u001b[0m     )\n\u001b[1;32m    169\u001b[0m     \u001b[0mnb\u001b[0m\u001b[0;34m.\u001b[0m\u001b[0mupdate\u001b[0m\u001b[0;34m(\u001b[0m\u001b[0mkwargs\u001b[0m\u001b[0;34m)\u001b[0m\u001b[0;34m\u001b[0m\u001b[0;34m\u001b[0m\u001b[0m\n\u001b[0;32m--> 170\u001b[0;31m     \u001b[0mvalidate\u001b[0m\u001b[0;34m(\u001b[0m\u001b[0mnb\u001b[0m\u001b[0;34m)\u001b[0m\u001b[0;34m\u001b[0m\u001b[0;34m\u001b[0m\u001b[0m\n\u001b[0m\u001b[1;32m    171\u001b[0m     \u001b[0;32mreturn\u001b[0m \u001b[0mnb\u001b[0m\u001b[0;34m\u001b[0m\u001b[0;34m\u001b[0m\u001b[0m\n",
      "\u001b[0;32m/opt/anaconda3/lib/python3.9/site-packages/nbformat/v4/nbbase.py\u001b[0m in \u001b[0;36mvalidate\u001b[0;34m(node, ref)\u001b[0m\n\u001b[1;32m     38\u001b[0m     \u001b[0;32mfrom\u001b[0m \u001b[0;34m.\u001b[0m\u001b[0;34m.\u001b[0m \u001b[0;32mimport\u001b[0m \u001b[0mvalidate\u001b[0m \u001b[0;32mas\u001b[0m \u001b[0mvalidate_orig\u001b[0m\u001b[0;34m\u001b[0m\u001b[0;34m\u001b[0m\u001b[0m\n\u001b[1;32m     39\u001b[0m \u001b[0;34m\u001b[0m\u001b[0m\n\u001b[0;32m---> 40\u001b[0;31m     \u001b[0;32mreturn\u001b[0m \u001b[0mvalidate_orig\u001b[0m\u001b[0;34m(\u001b[0m\u001b[0mnode\u001b[0m\u001b[0;34m,\u001b[0m \u001b[0mref\u001b[0m\u001b[0;34m=\u001b[0m\u001b[0mref\u001b[0m\u001b[0;34m,\u001b[0m \u001b[0mversion\u001b[0m\u001b[0;34m=\u001b[0m\u001b[0mnbformat\u001b[0m\u001b[0;34m)\u001b[0m\u001b[0;34m\u001b[0m\u001b[0;34m\u001b[0m\u001b[0m\n\u001b[0m\u001b[1;32m     41\u001b[0m \u001b[0;34m\u001b[0m\u001b[0m\n\u001b[1;32m     42\u001b[0m \u001b[0;34m\u001b[0m\u001b[0m\n",
      "\u001b[0;32m/opt/anaconda3/lib/python3.9/site-packages/nbformat/validator.py\u001b[0m in \u001b[0;36mvalidate\u001b[0;34m(nbdict, ref, version, version_minor, relax_add_props, nbjson, repair_duplicate_cell_ids, strip_invalid_metadata)\u001b[0m\n\u001b[1;32m    501\u001b[0m     ):\n\u001b[1;32m    502\u001b[0m \u001b[0;34m\u001b[0m\u001b[0m\n\u001b[0;32m--> 503\u001b[0;31m         \u001b[0;32mraise\u001b[0m \u001b[0merror\u001b[0m\u001b[0;34m\u001b[0m\u001b[0;34m\u001b[0m\u001b[0m\n\u001b[0m\u001b[1;32m    504\u001b[0m \u001b[0;34m\u001b[0m\u001b[0m\n\u001b[1;32m    505\u001b[0m \u001b[0;34m\u001b[0m\u001b[0m\n",
      "\u001b[0;31mNotebookValidationError\u001b[0m: data must not contain {'markdown'} properties\n\nFailed validating <unset> in notebook:\n\nOn instance:\n<unset>"
     ]
    }
   ],
   "source": [
    "convert_file(\"MOCKUP_README.md\", \"my_notebook.ipynb\")\n"
   ]
  }
 ],
 "metadata": {
  "kernelspec": {
   "display_name": "Python 3.9.13 ('base')",
   "language": "python",
   "name": "python3"
  },
  "language_info": {
   "codemirror_mode": {
    "name": "ipython",
    "version": 3
   },
   "file_extension": ".py",
   "mimetype": "text/x-python",
   "name": "python",
   "nbconvert_exporter": "python",
   "pygments_lexer": "ipython3",
   "version": "3.9.13"
  },
  "orig_nbformat": 4,
  "vscode": {
   "interpreter": {
    "hash": "40d3a090f54c6569ab1632332b64b2c03c39dcf918b08424e98f38b5ae0af88f"
   }
  }
 },
 "nbformat": 4,
 "nbformat_minor": 2
}
