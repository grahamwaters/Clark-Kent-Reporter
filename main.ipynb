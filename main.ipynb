{
 "cells": [
  {
   "cell_type": "markdown",
   "metadata": {},
   "source": [
    "This code imports the nbformat and re modules. It then opens the file MOCKUP_README.md and reads its contents into the variable text.\n",
    "\n",
    "Next, the code uses regular expressions to extract the section titles, sections, and code blocks from the text variable. The titles are extracted using the regular expression r'^# (.*)$', which matches lines that start with a # character followed by a space, capturing everything after the space until the end of the line. The sections are extracted using the regular expression r'^#.*\\n([\\s\\S]*?)^#', which matches lines that start with a # character followed by anything else, followed by a newline, capturing everything else until the next line that starts with a # character. Finally, the code blocks are extracted using the regular expression `r'(.+?)', which matches blocks of text that are surrounded by triple backtick characters (```), capturing everything inside the backticks.\n",
    "\n",
    "These extracted values are then stored in the titles, sections, and code_blocks variables, respectively."
   ]
  },
  {
   "cell_type": "code",
   "execution_count": 17,
   "metadata": {},
   "outputs": [],
   "source": [
    "import nbformat\n",
    "import re\n",
    "\n",
    "# Read the file\n",
    "with open('MOCKUP_README.md') as f:\n",
    "    text = f.read()\n",
    "\n",
    "# Use regular expressions to extract the section titles\n",
    "titles = re.findall(r'^# (.*)$', text, re.MULTILINE)\n",
    "\n",
    "# Use regular expressions to extract the sections (the text between the section titles)\n",
    "sections = re.findall(r'^#.*\\n([\\s\\S]*?)^#', text, re.MULTILINE)\n",
    "\n",
    "# Use regular expressions to extract the code blocks\n",
    "code_blocks = re.findall(r'```(.+?)```', text, re.DOTALL)\n"
   ]
  },
  {
   "cell_type": "markdown",
   "metadata": {},
   "source": [
    "This code creates a new notebook using the nbformat.v4.new_notebook() function and stores it in the nb variable. It then iterates over the list of section titles, titles, and adds each title as a markdown cell to the nb notebook using the nbformat.v4.new_markdown_cell() function.\n",
    "\n",
    "Next, the code iterates over the list of sections, sections, and adds each section as a markdown cell to the nb notebook using the nbformat.v4.new_markdown_cell() function.\n",
    "\n",
    "Finally, the code iterates over the list of code blocks, code_blocks, and adds each code block as a code cell to the nb notebook using the nbformat.v4.new_code_cell() function. The nb notebook is then saved to a file called report.ipynb using the nbformat.write() function."
   ]
  },
  {
   "cell_type": "code",
   "execution_count": 18,
   "metadata": {},
   "outputs": [],
   "source": [
    "\n",
    "# Create a new notebook\n",
    "nb = nbformat.v4.new_notebook()\n",
    "\n",
    "# Add the section titles as markdown cells\n",
    "for title in titles:\n",
    "    nb['cells'].append(nbformat.v4.new_markdown_cell(title))\n",
    "\n",
    "# Add the text of each section as markdown cells\n",
    "for section in sections:\n",
    "    nb['cells'].append(nbformat.v4.new_markdown_cell(section))\n",
    "\n",
    "# Add the code blocks as code cells\n",
    "for code in code_blocks:\n",
    "    nb['cells'].append(nbformat.v4.new_code_cell(code))\n",
    "\n",
    "# Save the notebook\n",
    "with open('report.ipynb', 'w') as f:\n",
    "    nbformat.write(nb, f)\n"
   ]
  }
 ],
 "metadata": {
  "kernelspec": {
   "display_name": "Python 3.9.13 ('base')",
   "language": "python",
   "name": "python3"
  },
  "language_info": {
   "codemirror_mode": {
    "name": "ipython",
    "version": 3
   },
   "file_extension": ".py",
   "mimetype": "text/x-python",
   "name": "python",
   "nbconvert_exporter": "python",
   "pygments_lexer": "ipython3",
   "version": "3.9.13"
  },
  "orig_nbformat": 4,
  "vscode": {
   "interpreter": {
    "hash": "40d3a090f54c6569ab1632332b64b2c03c39dcf918b08424e98f38b5ae0af88f"
   }
  }
 },
 "nbformat": 4,
 "nbformat_minor": 2
}
